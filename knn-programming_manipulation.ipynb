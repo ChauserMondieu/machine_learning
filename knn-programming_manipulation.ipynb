{
 "cells": [
  {
   "cell_type": "markdown",
   "id": "36549e5f",
   "metadata": {},
   "source": [
    "## 知识点\n",
    "1. Counter()初始化生成一个dict，每个元素是key，元素出现的次数是value\n",
    "2. Counter.most_common(n) 永远只会返回第一个value最大的item\n",
    "3. Counter本身是一个dict，在python3.6以后这个dict是内部排序的\n",
    "2. dict 中的每一个元素属于dict.items()，如果单独寻找key使用dict.keys()，如果单独寻找value使用dict.values()\n",
    "3. with open(file_path, module='rwf') as f: for line in f:\n",
    "4. python 内置字符串处理函数"
   ]
  },
  {
   "cell_type": "code",
   "execution_count": 26,
   "id": "f6d45642",
   "metadata": {},
   "outputs": [
    {
     "name": "stdout",
     "output_type": "stream",
     "text": [
      "key:  \\  value:  4751\n",
      "key:  r  value:  2408\n",
      "key:  t  value:  2078\n",
      "key:  f  value:  1324\n",
      "key:     value:  6378\n",
      "key:  a  value:  2339\n",
      "key:  n  value:  1606\n",
      "key:  s  value:  1635\n",
      "key:  i  value:  2530\n",
      "key:  c  value:  2132\n",
      "key:  p  value:  1187\n",
      "key:  0  value:  1401\n",
      "key:  d  value:  1827\n",
      "key:  e  value:  1824\n",
      "key:  h  value:  2317\n",
      "key:  l  value:  2588\n",
      "key:  o  value:  1402\n"
     ]
    }
   ],
   "source": [
    "from collections import Counter\n",
    "import os\n",
    "\n",
    "# print(os.path.abspath(''))\n",
    "f_path = './counter-test.doc'\n",
    "\n",
    "c = Counter()\n",
    "thresholds = 1000\n",
    "\n",
    "with open(f_path,'r') as f:\n",
    "    for line in f:\n",
    "        c.update(line.rstrip().lower())\n",
    "\n",
    "for key, value in c.items() :\n",
    "    if(value>thresholds):\n",
    "        print(\"key: \", key, \" value: \", value)"
   ]
  },
  {
   "cell_type": "code",
   "execution_count": 24,
   "id": "c47b848a",
   "metadata": {},
   "outputs": [
    {
     "data": {
      "text/plain": [
       "(' ', 6378)"
      ]
     },
     "execution_count": 24,
     "metadata": {},
     "output_type": "execute_result"
    }
   ],
   "source": [
    "c.most_common(1)[0]"
   ]
  },
  {
   "cell_type": "markdown",
   "id": "094a9ddd",
   "metadata": {},
   "source": [
    "## knn 简单编程\n",
    "1. 假设数据的格式\n",
    "    > data = [data_x, data_y] <br>\n",
    "    > label = [label] <br>\n",
    "2. knn判断过程\n",
    "    > 1. 找到最近的k个点 <br>\n",
    "    > 2. 在这k个点中选举出数量最多的标签 <br>\n",
    "    > 3. 如果标签一样多，扩大k值，直到选出绝对多数 <br>\n",
    "    > 4. 如果用尽所有点绝对多数有持平，那么选择标签最小的 <br>\n",
    "    "
   ]
  },
  {
   "cell_type": "markdown",
   "id": "21089b2f",
   "metadata": {},
   "source": [
    "### find_max"
   ]
  },
  {
   "cell_type": "code",
   "execution_count": 1,
   "id": "7750c643",
   "metadata": {},
   "outputs": [],
   "source": [
    "import numpy as np\n",
    "from matplotlib import pyplot\n",
    "from collections import Counter\n",
    "\n",
    "def find_max(label):\n",
    "    '''\n",
    "    input: []; k nearest labels\n",
    "    output: []; maximum label\n",
    "    '''\n",
    "    m_label = []\n",
    "    \n",
    "    c_label = Counter(label)\n",
    "    # find max value of current labels, could be more than one label\n",
    "    l_max=max(c_label.values())\n",
    "    for key, value in c_label.items():\n",
    "        if value == l_max:\n",
    "            m_label.append(key)\n",
    "        else:\n",
    "            continue\n",
    "    return m_label"
   ]
  },
  {
   "cell_type": "code",
   "execution_count": 36,
   "id": "6e3fb660",
   "metadata": {},
   "outputs": [
    {
     "data": {
      "text/plain": [
       "[7, 2, 0]"
      ]
     },
     "execution_count": 36,
     "metadata": {},
     "output_type": "execute_result"
    }
   ],
   "source": [
    "# test of find_max\n",
    "data = []\n",
    "label = [3,3,3,5,5,7,7,7,7,7,2,2,2,2,2,0,0,0,0,0]\n",
    "find_max(data,label)"
   ]
  },
  {
   "cell_type": "markdown",
   "id": "924baf94",
   "metadata": {},
   "source": [
    "### distance"
   ]
  },
  {
   "cell_type": "code",
   "execution_count": 17,
   "id": "6840049d",
   "metadata": {},
   "outputs": [],
   "source": [
    "from math import sqrt\n",
    "\n",
    "def distance(d0, d1):\n",
    "    '''\n",
    "    calculate distance between two data points\n",
    "    \n",
    "    input: 2d tuple & 2d tuple; two tuples\n",
    "    output: one number; distance\n",
    "    '''\n",
    "    return sqrt(np.sum((d0-d1)*(d0-d1),axis=0))"
   ]
  },
  {
   "cell_type": "code",
   "execution_count": 18,
   "id": "f1f86e18",
   "metadata": {},
   "outputs": [
    {
     "data": {
      "text/plain": [
       "5.099999835444429"
      ]
     },
     "execution_count": 18,
     "metadata": {},
     "output_type": "execute_result"
    }
   ],
   "source": [
    "# test of distance\n",
    "d0 = np.asarray((2.4, 5.1),dtype=np.float32)\n",
    "d1 = np.asarray((6.9, 2.7),dtype=np.float32)\n",
    "distance(d0,d1)"
   ]
  },
  {
   "cell_type": "markdown",
   "id": "516e72d6",
   "metadata": {},
   "source": [
    "### pop_over_dist"
   ]
  },
  {
   "cell_type": "code",
   "execution_count": null,
   "id": "cb6a4f84",
   "metadata": {},
   "outputs": [],
   "source": [
    "# customize one pop function\n",
    "\n",
    "def pop_over_dist(l, max):\n",
    "    '''\n",
    "    pop item according to setting value \n",
    "    input: list and setting value\n",
    "    output: popped item\n",
    "    function pop out item from given list\n",
    "    '''\n",
    "    popped = (0,0,0)\n",
    "    for idx,(a,b,c) in enumerate(l):\n",
    "        if b == max:\n",
    "            popped = l.pop(idx)\n",
    "    return popped"
   ]
  },
  {
   "cell_type": "code",
   "execution_count": 89,
   "id": "1f02e8a7",
   "metadata": {},
   "outputs": [
    {
     "name": "stdout",
     "output_type": "stream",
     "text": [
      "[(2, 3, 4), (5, 4, 6), (7, 3, 1)]\n"
     ]
    }
   ],
   "source": [
    "l = [(2, 3, 4), (5, 4, 6), (7, 3, 1), (6, 10, 12)]\n",
    "pop_over_dist(l, 10)\n",
    "print(l)"
   ]
  },
  {
   "cell_type": "markdown",
   "id": "372ce837",
   "metadata": {},
   "source": [
    "### find_maximum_dist"
   ]
  },
  {
   "cell_type": "code",
   "execution_count": 5,
   "id": "6a539738",
   "metadata": {},
   "outputs": [],
   "source": [
    "# find maximum distance in cluster\n",
    "\n",
    "def find_maximum_dist(l):\n",
    "    '''\n",
    "    find maximum distance over cluster\n",
    "    input: list \n",
    "    output: maximum distance\n",
    "    '''\n",
    "    max_dist = 0\n",
    "    for (dat,dist,idx) in l:\n",
    "        if dist >= max_dist:\n",
    "            max_dist = dist\n",
    "    return max_dist    "
   ]
  },
  {
   "cell_type": "code",
   "execution_count": 104,
   "id": "36f32cc5",
   "metadata": {},
   "outputs": [
    {
     "data": {
      "text/plain": [
       "4"
      ]
     },
     "execution_count": 104,
     "metadata": {},
     "output_type": "execute_result"
    }
   ],
   "source": [
    "# test find_maximum_dist\n",
    "\n",
    "find_maximum_dist(l)"
   ]
  },
  {
   "cell_type": "markdown",
   "id": "a64896f1",
   "metadata": {},
   "source": [
    "### find_k_nearest"
   ]
  },
  {
   "cell_type": "code",
   "execution_count": 29,
   "id": "d781bce8",
   "metadata": {},
   "outputs": [],
   "source": [
    "def find_k_nearest(data, pt, k):\n",
    "    '''\n",
    "    input: data, point for classification, k for number of classes\n",
    "    output: k nearest point\n",
    "    '''\n",
    "    # list storing k-nearest points and its corresponding idx\n",
    "    # this k_nearest should be a tuple list: (data,distance,idx)\n",
    "    k_nearest = []\n",
    "    # first put k points into cluster, sort cluster\n",
    "    # then find the maximum distance of these k point\n",
    "    # if new distance is smaller than the maximum, pop the maximum-distance point and put in this new point\n",
    "    # the number of members of this cluster is always k\n",
    "    k_maximum_dis = 0\n",
    "    for (idx,pts) in enumerate(data):\n",
    "        # first put k points into cluster\n",
    "        dist = distance(pts, pt)\n",
    "        # print(\"this distance is: \", dist)\n",
    "        if idx < k:          \n",
    "            k_nearest.append((pts,dist,idx))\n",
    "            # find the maximum distance of this cluster\n",
    "            k_maximum_dis = find_maximum_dist(k_nearest)\n",
    "        else:\n",
    "            # put in points that is smaller than the maximum distance \n",
    "            # then pop out points with maximum distance\n",
    "            # one exception: if they are of the same distance, keep both\n",
    "            if dist < k_maximum_dis:\n",
    "                pop_over_dist(k_nearest, k_maximum_dis)\n",
    "                k_nearest.append((pts, dist, idx))\n",
    "                k_maximum_dis = find_maximum_dist(k_nearest)\n",
    "            elif dist == k_maximum_dis:\n",
    "                k_nearest.append((pts, dist, idx))\n",
    "            else:\n",
    "                continue\n",
    "    return k_nearest"
   ]
  },
  {
   "cell_type": "code",
   "execution_count": 30,
   "id": "9fd0cb58",
   "metadata": {},
   "outputs": [
    {
     "data": {
      "text/plain": [
       "[(array([1.70575908, 4.30614891]), 2.6445003972655443, 9),\n",
       " (array([ 2.38280076, -1.54101043]), 3.5943969944164653, 38),\n",
       " (array([0.51791173, 5.40115406]), 4.210535730363436, 40),\n",
       " (array([ 5.44236549, -2.18812716]), 4.848253116293, 46),\n",
       " (array([3.06536602, 4.98375305]), 2.9844689590869953, 47)]"
      ]
     },
     "execution_count": 30,
     "metadata": {},
     "output_type": "execute_result"
    }
   ],
   "source": [
    "sigma = 10\n",
    "miu = 5\n",
    "data = (sigma * np.random.randn(100,)+ miu).reshape(50,2)\n",
    "target = np.asarray((3,2),dtype=np.float32)\n",
    "find_k_nearest(data, target, 5)"
   ]
  },
  {
   "cell_type": "markdown",
   "id": "0ba54135",
   "metadata": {},
   "source": [
    "### vote"
   ]
  },
  {
   "cell_type": "code",
   "execution_count": 58,
   "id": "0c181fbb",
   "metadata": {},
   "outputs": [],
   "source": [
    "# vote maximum label\n",
    "\n",
    "def vote(data, label, target, k):\n",
    "    '''\n",
    "    find which cluster this new point should belong\n",
    "    using voting\n",
    "    input: \n",
    "        data -> labelled points\n",
    "        label -> labels of points\n",
    "        point -> target point waiting for classification  \n",
    "        k -> number of nearest points\n",
    "    output: class\n",
    "    '''\n",
    "    # label_list containing corresponding label via the same index between data and label\n",
    "    label_list = []\n",
    "    # pts is 3d tuple (point, distance, index)\n",
    "    pts = find_k_nearest(data, target , k)\n",
    "    for (_,_,idx) in pts:\n",
    "        label_list.append(label[idx])\n",
    "    # find maximum number of label\n",
    "    max_label = find_max(label_list)\n",
    "    # if we have more than one maximum number of label\n",
    "    if len(max_label) >= 2 and k<= len(data)/2:\n",
    "        vote(data, label, target, k+1)\n",
    "    else:\n",
    "        return max_label"
   ]
  },
  {
   "cell_type": "code",
   "execution_count": 133,
   "id": "f5a0850c",
   "metadata": {},
   "outputs": [],
   "source": [
    "# generate lable with some dumb methods\n",
    "def label_gen_func(shape,k):\n",
    "    '''\n",
    "    generate k-class label\n",
    "    input: \n",
    "        shape -> shape of label list\n",
    "        k -> k classes\n",
    "    output: label list\n",
    "    '''\n",
    "    label = []\n",
    "    raw_num = np.random.randint(0,100,shape).tolist()\n",
    "    for idx,num in enumerate(raw_num):\n",
    "        for i in range(k):\n",
    "            if num <= (i+1) * 100/k:\n",
    "                label.append(i)\n",
    "                raw_num[idx] = 1000\n",
    "                break\n",
    "    return label"
   ]
  },
  {
   "cell_type": "code",
   "execution_count": 177,
   "id": "d0806df2",
   "metadata": {},
   "outputs": [
    {
     "name": "stdout",
     "output_type": "stream",
     "text": [
      "[2, 0, 2, 4, 4, 3, 2, 3, 3, 2, 2, 1, 1, 4, 3, 3, 1, 0, 1, 3, 0, 4, 0, 3, 4, 4, 4, 4, 1, 3, 4, 0, 3, 1, 0, 0, 3, 4, 2, 3, 2, 2, 2, 3, 1, 3, 2, 4, 3, 1]\n",
      "50\n"
     ]
    }
   ],
   "source": [
    "res = label_gen_func(50,5)\n",
    "print(res)\n",
    "print(len(res))"
   ]
  },
  {
   "cell_type": "code",
   "execution_count": 239,
   "id": "2a9fe4f1",
   "metadata": {},
   "outputs": [
    {
     "name": "stdout",
     "output_type": "stream",
     "text": [
      "[0]\n"
     ]
    }
   ],
   "source": [
    "# final test with small number of data\n",
    "k = 5\n",
    "sigma = 10\n",
    "miu = 5\n",
    "data = (sigma * np.random.randn(100,)+ miu).reshape(50,2)\n",
    "label = label_gen_func(50,5)\n",
    "target = np.asarray((3,2),dtype=np.float32)\n",
    "target_lab = vote(data, label, target, k)\n",
    "print(target_lab)"
   ]
  },
  {
   "cell_type": "markdown",
   "id": "eeb27677",
   "metadata": {},
   "source": [
    "### visualization"
   ]
  },
  {
   "cell_type": "code",
   "execution_count": 240,
   "id": "3eb34e9b",
   "metadata": {},
   "outputs": [
    {
     "data": {
      "image/png": "[encoded data removed]",
      "text/plain": [
       "<Figure size 960x720 with 1 Axes>"
      ]
     },
     "metadata": {},
     "output_type": "display_data"
    }
   ],
   "source": [
    "from matplotlib import pyplot as plt\n",
    "import matplotlib\n",
    "\n",
    "\n",
    "plt.rcParams['font.sans-serif']=['SimHei'] #指定默认字体 SimHei为黑体\n",
    "plt.rcParams['axes.unicode_minus']=False   #用来正常显示负号\n",
    "\n",
    "colors = ['red', 'purple', 'blue', 'green', 'lime']\n",
    "shapes = ['+', 'o', '>', '*', '.']\n",
    "\n",
    "\n",
    "# create 5 different list containing 5 classes of points\n",
    "upper_list = []\n",
    "for i in range(k):\n",
    "    new_list = []\n",
    "    upper_list.append(new_list)\n",
    "# assign each point into its corresponding class\n",
    "data_with_lab = zip(data, label)\n",
    "\n",
    "\n",
    "for dat, lab in data_with_lab:\n",
    "    for i in range(k): \n",
    "        if lab == i:\n",
    "            upper_list[i].append(dat.tolist())\n",
    "            \n",
    "fig, ax = plt.subplots(1,1,facecolor='whitesmoke',edgecolor='grey',\n",
    "                       dpi=120,figsize=(8,6))\n",
    "#fig.suptitle(\"knn results visualization\",fontsize=18, color='red')\n",
    "ax.set_title('knn with groups')\n",
    "\n",
    "for i in range(k):\n",
    "    ax.scatter(np.array(upper_list[i])[:,0],\n",
    "               np.array(upper_list[i])[:,1],\n",
    "               color=colors[i], \n",
    "               marker=shapes[i],\n",
    "               label=\"class-\"+str(i))\n",
    "\n",
    "# plot the unassigned point\n",
    "ax.plot(target[0],target[1],color='black',marker='<',label=\"untold\")\n",
    "ax.text(target[0]-1.8,target[1]+1.2,\n",
    "        'class-'+str(target_lab[0]),\n",
    "        fontsize=8)\n",
    "\n",
    "ax.legend()\n",
    "ax.grid(alpha=0.2)"
   ]
  },
  {
   "cell_type": "markdown",
   "id": "00b46722",
   "metadata": {},
   "source": [
    "## 总结\n",
    "1. np.array() 或是 np.asarray() 能够将list转换为ndarray，便于操作\n",
    "2. python中的zip是位置上的一对一重组，并且组合后成为tuple，其中的二者仍旧保持着独立的关系，能够使用for进行拆包\n",
    "3. pyplot之中rcParam属性\n",
    "4. 使用上位list嵌套下位list的方法能够按照需求建立k个list进行元素的放置"
   ]
  },
  {
   "cell_type": "markdown",
   "id": "ae73e58a",
   "metadata": {},
   "source": [
    "## sklearn knn\n",
    "1. sklearn.neighbors KNeighborsClassifier\n",
    "    > classifier  算法中有两个需要指定方法的部分 <br>\n",
    "    > 首先是如何从所有最近点中选举出未知点的标签，体现在weights参数上 <br>\n",
    "    > 其次是如何选举出最近的k个点，体现在algorithm以及leaf_size参数对上 <br>\n",
    "    > 最后是如何计算距离， 体现在metric以及metrix_param参数上 <br>\n",
    "    > n_neighbors参数是必须的 <br>"
   ]
  },
  {
   "cell_type": "code",
   "execution_count": 259,
   "id": "eb0aebe7",
   "metadata": {},
   "outputs": [
    {
     "data": {
      "text/plain": [
       "dict_keys(['data', 'target', 'frame', 'target_names', 'DESCR', 'feature_names', 'filename', 'data_module'])"
      ]
     },
     "execution_count": 259,
     "metadata": {},
     "output_type": "execute_result"
    }
   ],
   "source": [
    "from sklearn.datasets import load_iris\n",
    "from sklearn.model_selection import train_test_split\n",
    "from sklearn.preprocessing import StandardScaler\n",
    "from sklearn.neighbors import KNeighborsClassifier\n",
    "from sklearn.metrics import classification_report, confusion_matrix\n",
    "\n",
    "iris = load_iris()\n",
    "iris.keys()"
   ]
  },
  {
   "cell_type": "code",
   "execution_count": 261,
   "id": "31cc56e6",
   "metadata": {},
   "outputs": [
    {
     "name": "stdout",
     "output_type": "stream",
     "text": [
      "[[ 0  0 13]\n",
      " [ 0  0  8]\n",
      " [ 0  0  9]]\n",
      "              precision    recall  f1-score   support\n",
      "\n",
      "           0       0.00      0.00      0.00        13\n",
      "           1       0.00      0.00      0.00         8\n",
      "           2       0.30      1.00      0.46         9\n",
      "\n",
      "    accuracy                           0.30        30\n",
      "   macro avg       0.10      0.33      0.15        30\n",
      "weighted avg       0.09      0.30      0.14        30\n",
      "\n"
     ]
    },
    {
     "name": "stderr",
     "output_type": "stream",
     "text": [
      "/Users/collinsliu/opt/anaconda3/lib/python3.9/site-packages/sklearn/metrics/_classification.py:1318: UndefinedMetricWarning: Precision and F-score are ill-defined and being set to 0.0 in labels with no predicted samples. Use `zero_division` parameter to control this behavior.\n",
      "  _warn_prf(average, modifier, msg_start, len(result))\n",
      "/Users/collinsliu/opt/anaconda3/lib/python3.9/site-packages/sklearn/metrics/_classification.py:1318: UndefinedMetricWarning: Precision and F-score are ill-defined and being set to 0.0 in labels with no predicted samples. Use `zero_division` parameter to control this behavior.\n",
      "  _warn_prf(average, modifier, msg_start, len(result))\n",
      "/Users/collinsliu/opt/anaconda3/lib/python3.9/site-packages/sklearn/metrics/_classification.py:1318: UndefinedMetricWarning: Precision and F-score are ill-defined and being set to 0.0 in labels with no predicted samples. Use `zero_division` parameter to control this behavior.\n",
      "  _warn_prf(average, modifier, msg_start, len(result))\n"
     ]
    }
   ],
   "source": [
    "data_iris = iris.data\n",
    "label_iris = iris.target\n",
    "properties_iris = iris.feature_names\n",
    "names_iris = iris.target_names\n",
    "\n",
    "# split raw data and label into train and test set\n",
    "data_iris_train, data_iris_test, label_iris_train, label_iris_test  \\\n",
    "    = train_test_split(data_iris, label_iris, test_size=0.2)\n",
    "# scale feature into standard normalized pattern\n",
    "scaler = StandardScaler()\n",
    "scaler.fit(data_iris)\n",
    "data_iris_train_sca = scaler.transform(data_iris_train)\n",
    "data_iris_test_sca = scaler.transform(data_iris_test)\n",
    "# initiate KNN learning module\n",
    "classifier = KNeighborsClassifier(n_neighbors=5)\n",
    "# feed triaining data into\n",
    "classifier.fit(data_iris_train_sca, label_iris_train)\n",
    "# predict test data and estimate efficiency of module\n",
    "label_iris_pred = classifier.predict(data_iris_test)\n",
    "print(confusion_matrix(label_iris_test,label_iris_pred))\n",
    "print(classification_report(label_iris_test,label_iris_pred))"
   ]
  },
  {
   "cell_type": "code",
   "execution_count": 265,
   "id": "34a11f17",
   "metadata": {},
   "outputs": [
    {
     "data": {
      "text/plain": [
       "[0.03333333333333333,\n",
       " 0.03333333333333333,\n",
       " 0.03333333333333333,\n",
       " 0.06666666666666667,\n",
       " 0.03333333333333333,\n",
       " 0.06666666666666667,\n",
       " 0.06666666666666667,\n",
       " 0.06666666666666667,\n",
       " 0.06666666666666667,\n",
       " 0.06666666666666667,\n",
       " 0.03333333333333333,\n",
       " 0.1,\n",
       " 0.03333333333333333,\n",
       " 0.06666666666666667,\n",
       " 0.06666666666666667,\n",
       " 0.06666666666666667,\n",
       " 0.06666666666666667,\n",
       " 0.03333333333333333,\n",
       " 0.03333333333333333,\n",
       " 0.03333333333333333,\n",
       " 0.0,\n",
       " 0.03333333333333333,\n",
       " 0.03333333333333333,\n",
       " 0.06666666666666667,\n",
       " 0.06666666666666667,\n",
       " 0.06666666666666667,\n",
       " 0.06666666666666667,\n",
       " 0.1,\n",
       " 0.06666666666666667,\n",
       " 0.06666666666666667,\n",
       " 0.06666666666666667,\n",
       " 0.1,\n",
       " 0.1,\n",
       " 0.1,\n",
       " 0.06666666666666667,\n",
       " 0.06666666666666667,\n",
       " 0.1,\n",
       " 0.13333333333333333,\n",
       " 0.1,\n",
       " 0.13333333333333333,\n",
       " 0.13333333333333333]"
      ]
     },
     "execution_count": 265,
     "metadata": {},
     "output_type": "execute_result"
    }
   ],
   "source": [
    "# evaluate error rate with the expansion of k\n",
    "error = []\n",
    "for i in range(41):\n",
    "    knn_classifier = KNeighborsClassifier(n_neighbors=i+1)\n",
    "    knn_classifier.fit(data_iris_train_sca, label_iris_train)\n",
    "    label_iris_pred_k = knn_classifier.predict(data_iris_test_sca)\n",
    "    error.append(np.mean(label_iris_pred_k != label_iris_test))"
   ]
  },
  {
   "cell_type": "code",
   "execution_count": null,
   "id": "b609d400",
   "metadata": {},
   "outputs": [],
   "source": []
  }
 ],
 "metadata": {
  "kernelspec": {
   "display_name": "Python 3 (ipykernel)",
   "language": "python",
   "name": "python3"
  },
  "language_info": {
   "codemirror_mode": {
    "name": "ipython",
    "version": 3
   },
   "file_extension": ".py",
   "mimetype": "text/x-python",
   "name": "python",
   "nbconvert_exporter": "python",
   "pygments_lexer": "ipython3",
   "version": "3.9.7"
  },
  "toc": {
   "base_numbering": 1,
   "nav_menu": {},
   "number_sections": true,
   "sideBar": true,
   "skip_h1_title": false,
   "title_cell": "Table of Contents",
   "title_sidebar": "Contents",
   "toc_cell": false,
   "toc_position": {},
   "toc_section_display": true,
   "toc_window_display": true
  }
 },
 "nbformat": 4,
 "nbformat_minor": 5
}
