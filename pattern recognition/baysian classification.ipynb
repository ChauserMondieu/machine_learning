{
 "cells": [
  {
   "cell_type": "markdown",
   "id": "1834d919",
   "metadata": {},
   "source": [
    "# Baysian Decision Theory\n",
    "Suppose a M-class $(\\omega_1,\\omega_2, \\cdots, \\omega_M)$ classification task and a attribute vector $\\mathbf{x}$ symbolizing unknown sample <br>\n",
    "We could simply calculate prior probability $P(\\omega_k) = \\frac{N_k}{N}$ and conditional probability $P(\\mathbf{x}|\\omega_k)$, this could processed as MLE of known data points <br>\n",
    "According to Baysian Rule,\n",
    "\n",
    "$$\n",
    "    P(\\omega_i|\\mathbf{x}) = \\frac{P(\\mathbf{x}|\\omega_i)P(\\omega_i)}{p(\\mathbf{x})}\n",
    "$$\n",
    "\n",
    "Note that $P(\\mathbf{x}|\\omega_i)$ is a distribution, denotes probability distribution of all possible attribute vector belonging to one specific class $\\omega_i$"
   ]
  },
  {
   "cell_type": "code",
   "execution_count": null,
   "id": "85d82791",
   "metadata": {},
   "outputs": [],
   "source": []
  }
 ],
 "metadata": {
  "kernelspec": {
   "display_name": "Python 3 (ipykernel)",
   "language": "python",
   "name": "python3"
  },
  "language_info": {
   "codemirror_mode": {
    "name": "ipython",
    "version": 3
   },
   "file_extension": ".py",
   "mimetype": "text/x-python",
   "name": "python",
   "nbconvert_exporter": "python",
   "pygments_lexer": "ipython3",
   "version": "3.9.7"
  },
  "toc": {
   "base_numbering": 1,
   "nav_menu": {},
   "number_sections": true,
   "sideBar": true,
   "skip_h1_title": false,
   "title_cell": "Table of Contents",
   "title_sidebar": "Contents",
   "toc_cell": false,
   "toc_position": {},
   "toc_section_display": true,
   "toc_window_display": true
  }
 },
 "nbformat": 4,
 "nbformat_minor": 5
}
