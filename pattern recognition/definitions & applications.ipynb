{
 "cells": [
  {
   "cell_type": "markdown",
   "id": "c7ddd9de",
   "metadata": {},
   "source": [
    "# Overview"
   ]
  },
  {
   "cell_type": "markdown",
   "id": "69334402",
   "metadata": {},
   "source": [
    "## Definition\n",
    "> 模式识别是一门以应用为基础的学科，目的是将对象进行分类"
   ]
  },
  {
   "cell_type": "markdown",
   "id": "8de94bc9",
   "metadata": {},
   "source": [
    "# Application\n",
    "1. 机器视觉\n",
    "2. 字符识别\n",
    "3. 计算机辅助诊断\n",
    "4. 语音识别\n",
    "5. 数据库中的数据挖掘和知识探索(Data Mining & Knowledge Discovery)"
   ]
  },
  {
   "cell_type": "markdown",
   "id": "d6c70e23",
   "metadata": {},
   "source": [
    "# Basic Problem\n",
    "1. 确定特征值，建立特征向量 - 特征提取，完成已知样本的识别\n",
    "$$\n",
    "    \\mathbf{x} = (x_1, x_2, \\cdots, x_n)^T\n",
    "$$\n",
    "2. 确定合适的特征\n",
    "3. 设计分类器\n",
    "4. 评估分类器的性能 - 系统评估"
   ]
  },
  {
   "cell_type": "markdown",
   "id": "fcbcc431",
   "metadata": {},
   "source": []
  },
  {
   "cell_type": "code",
   "execution_count": null,
   "id": "aa7f1502",
   "metadata": {},
   "outputs": [],
   "source": []
  }
 ],
 "metadata": {
  "kernelspec": {
   "display_name": "Python 3 (ipykernel)",
   "language": "python",
   "name": "python3"
  },
  "language_info": {
   "codemirror_mode": {
    "name": "ipython",
    "version": 3
   },
   "file_extension": ".py",
   "mimetype": "text/x-python",
   "name": "python",
   "nbconvert_exporter": "python",
   "pygments_lexer": "ipython3",
   "version": "3.9.7"
  },
  "toc": {
   "base_numbering": 1,
   "nav_menu": {},
   "number_sections": true,
   "sideBar": true,
   "skip_h1_title": false,
   "title_cell": "Table of Contents",
   "title_sidebar": "Contents",
   "toc_cell": false,
   "toc_position": {},
   "toc_section_display": true,
   "toc_window_display": true
  }
 },
 "nbformat": 4,
 "nbformat_minor": 5
}
