{
 "cells": [
  {
   "cell_type": "markdown",
   "id": "1f153e45",
   "metadata": {},
   "source": [
    "# Lagrange Interpolation\n",
    "## Mathmatical background\n",
    "suppose function goes through n known points $(x_0,y_0),(x_1,y_1),(x_2,y_2),\\dots ,(x_n,y_n)$,then interpolation polynomial should be like:\n",
    "\n",
    "$$\n",
    "    L_n(x) = \\displaystyle\\sum_{k=0}^{n}{y_kl_k(x)}\n",
    "$$\n",
    "\n",
    "where $l_k(x)$ stands for interpolation base function:\n",
    "\n",
    "$$\n",
    "    l_k(x) = \\frac{(x-x_0)(x-x_1)(x-x_2)\\cdots(x-x_{k-1})(x-x_{k+1})\\cdots(x-x_n)}{(x_k-x_0)(x_k-x_1)(x_k-x_2)\\cdots(x_k-x_{k-1})(x_k-x_{k+1})\\cdots(x_k-x_n)}\n",
    "$$\n",
    "\n",
    "we make this following convention:\n",
    "\n",
    "$$\n",
    "\\left\\{\n",
    "\\begin{array}{ll}\n",
    "\n",
    "\\end{array}\n",
    "$$"
   ]
  },
  {
   "cell_type": "code",
   "execution_count": null,
   "id": "5469a630",
   "metadata": {},
   "outputs": [],
   "source": []
  }
 ],
 "metadata": {
  "kernelspec": {
   "display_name": "Python 3 (ipykernel)",
   "language": "python",
   "name": "python3"
  },
  "language_info": {
   "codemirror_mode": {
    "name": "ipython",
    "version": 3
   },
   "file_extension": ".py",
   "mimetype": "text/x-python",
   "name": "python",
   "nbconvert_exporter": "python",
   "pygments_lexer": "ipython3",
   "version": "3.9.7"
  },
  "toc": {
   "base_numbering": 1,
   "nav_menu": {},
   "number_sections": true,
   "sideBar": true,
   "skip_h1_title": false,
   "title_cell": "Table of Contents",
   "title_sidebar": "Contents",
   "toc_cell": false,
   "toc_position": {},
   "toc_section_display": true,
   "toc_window_display": true
  }
 },
 "nbformat": 4,
 "nbformat_minor": 5
}
