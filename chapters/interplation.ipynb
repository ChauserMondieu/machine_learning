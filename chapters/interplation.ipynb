{
 "cells": [
  {
   "cell_type": "markdown",
   "id": "5612737b",
   "metadata": {},
   "source": [
    "# Lagrange Interpolation\n",
    "## Mathmatical background\n",
    "suppose function goes through n known points $(x_0,y_0),(x_1,y_1),(x_2,y_2),\\dots ,(x_n,y_n)$,then interpolation polynomial should be like:\n",
    "\n",
    "$$\n",
    "    L_n(x) = \\displaystyle\\sum_{k=0}^{n}{y_kl_k(x)}\n",
    "$$\n",
    "\n",
    "where $l_k(x)$ stands for interpolation base function:\n",
    "\n",
    "$$\n",
    "    l_k(x) = \\frac{(x-x_0)(x-x_1)(x-x_2)\\cdots(x-x_{k-1})(x-x_{k+1})\\cdots(x-x_n)}{(x_k-x_0)(x_k-x_1)(x_k-x_2)\\cdots(x_k-x_{k-1})(x_k-x_{k+1})\\cdots(x_k-x_n)}\n",
    "$$\n",
    "\n",
    "we make this following convention:\n",
    "\n",
    "$$\n",
    "\\left\\{\n",
    "\\begin{array}{ll}\n",
    "\\omega_{n+1}(x) & = & (x-x_0)(x-x_1)(x-x_2)\\cdots(x-x_n)\\\\\n",
    "\\omega^{\\prime}_{n+1}(x_k) & = & (x_k-x_0)(x_k-x_1)(x_k-x_2)\\cdots(x_k-x_{k-1})(x_k-x_{k+1})\\cdots(x_k-x_n)\n",
    "\\end{array}\n",
    "\\right .\n",
    "$$\n",
    "\n",
    "then interpolation polynomial could be expressed as:\n",
    "\n",
    "$$\n",
    "    L_n(x) = \\displaystyle\\sum_{k=0}^{n}{y_k\\frac{\\omega_{n+1}(x)}{(x-x_k)\\omega^{\\prime}_{n+1}(x_k)}}\n",
    "$$\n",
    "\n",
    "as we use higher order polynomials to approximate possible original function, the remainder should be like:\n",
    "\n",
    "$$\n",
    "    R_n(x) = f(x) - L_n(x) = \\frac{f^{(n+1)}(\\xi)}{(n+1)!}\\omega_{n+1}(x) \n",
    "$$\n",
    "\n",
    "where $\\xi \\in (a,b)$ and dependent on $x$"
   ]
  },
  {
   "cell_type": "markdown",
   "id": "97d4e351",
   "metadata": {},
   "source": [
    "## Notice\n",
    "1. for each new known points adding to polynomial model, each base function should be recalculated, which is time-comsuming. In other words, calcualtion result could not be reused.\n",
    "2. as is shown in interpolation polynomials, the order of polynomial depends on number of known points. Yet notice that Kunge Phenomenon still exists."
   ]
  },
  {
   "cell_type": "markdown",
   "id": "a4c8ede5",
   "metadata": {},
   "source": [
    "# Newton Interpolation\n",
    "## Mathmatical background\n",
    "to begin with, we define polynomial as following:\n",
    "\n",
    "$$\n",
    "    P_n(x) = a_0 + a_1(x-x_0) + a_2(x-x_0)(x-x_1) +\\cdots + a_n(x-x_0)(x-x_1)\\cdots(x-x_n)\n",
    "$$\n",
    "\n",
    "then our goal is to find coefficent ${a_0, a_1, a_2 ,\\cdots, a_n}$, these coeffcients could also be called <font color=sapphire><b>difference quotient</b></font>;<br>\n",
    "higher order difference quotient could be derived by the lower order by using recursion formula<br> \n",
    "first order:\n",
    "\n",
    "$$\n",
    "    f[x_i, x_j] = \\frac{f(x_i)-f(x_j)}{x_i-x_j}\n",
    "$$\n",
    "\n",
    "second order:\n",
    "\n",
    "$$\n",
    "    f[x_i, x_j, x_k] = \\frac{f[x_i, x_j]-f[x_j, x_k]}{x_i-x_k}\n",
    "$$\n",
    "\n",
    "then, we could find k-order:\n",
    "\n",
    "$$\n",
    "    f[x_0, x_1, \\cdots, x_k] = \\frac{f[x_0, x_1,\\cdots,x_{k-2},x_k]-f[x_0, x_1, \\cdots, x_{k-1}]}{x_k-x_{k-1}}\n",
    "$$\n",
    "\n",
    "and the other one is also true:\n",
    "\n",
    "$$\n",
    "    f[x_0, x_1, \\cdots, x_k] = \\frac{f[x_1, x_2,\\cdots,x_k]-f[x_0, x_1, \\cdots, x_{k-1}]}{x_k-x_{0}}\n",
    "$$\n",
    "\n",
    "one important property of difference quotient is:\n",
    "\n",
    "$$\n",
    "    f[x_0, x_1, \\cdots, x_k] = \\displaystyle\\sum_{j=0}^{k}{\\frac{f(x_j)}{(x_j-x_0)\\cdots(x_j-x_{j-1})(x_j-x_{j+1})\\cdots(x_j-x_k)}}\n",
    "$$\n",
    "\n",
    "and difference quotient is also associate with gradient:\n",
    "\n",
    "$$\n",
    "    f[x_0, x_1, \\cdots, x_k] = \\frac{f^{(n)}(\\xi)}{n!} , \\xi \\in (a,b)\n",
    "$$\n",
    "\n",
    "## Notice\n",
    "1. newton interpolation is faster than lagrange interpolation in that new points will not cause the re-calculation of the whole model\n",
    "2. yet, difference quotient is not that easy to calculate"
   ]
  },
  {
   "cell_type": "markdown",
   "id": "f2e02fa7",
   "metadata": {},
   "source": [
    "# Hermite Interpolation\n",
    "## Mathmatical background\n",
    "to begin with, we not only wants data close enough to function, but the first order derivation as well.<br>\n",
    "then, by using undeterminated coefficient method, we could easily calculate coefficient of each polynomial terms."
   ]
  },
  {
   "cell_type": "markdown",
   "id": "cffdac2f",
   "metadata": {},
   "source": [
    "# scipy interpolation packages\n",
    "1. scipy.interpolate package"
   ]
  },
  {
   "cell_type": "code",
   "execution_count": 2,
   "id": "119a1057",
   "metadata": {},
   "outputs": [],
   "source": [
    "from scipy import interpolate"
   ]
  },
  {
   "cell_type": "code",
   "execution_count": null,
   "id": "8d171333",
   "metadata": {},
   "outputs": [],
   "source": []
  }
 ],
 "metadata": {
  "kernelspec": {
   "display_name": "Python 3 (ipykernel)",
   "language": "python",
   "name": "python3"
  },
  "language_info": {
   "codemirror_mode": {
    "name": "ipython",
    "version": 3
   },
   "file_extension": ".py",
   "mimetype": "text/x-python",
   "name": "python",
   "nbconvert_exporter": "python",
   "pygments_lexer": "ipython3",
   "version": "3.9.7"
  },
  "toc": {
   "base_numbering": 1,
   "nav_menu": {},
   "number_sections": true,
   "sideBar": true,
   "skip_h1_title": false,
   "title_cell": "Table of Contents",
   "title_sidebar": "Contents",
   "toc_cell": false,
   "toc_position": {},
   "toc_section_display": true,
   "toc_window_display": true
  }
 },
 "nbformat": 4,
 "nbformat_minor": 5
}
