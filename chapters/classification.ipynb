{
 "cells": [
  {
   "cell_type": "code",
   "execution_count": 3,
   "id": "cdab5b78",
   "metadata": {},
   "outputs": [
    {
     "name": "stdout",
     "output_type": "stream",
     "text": [
      "/Users/collinsliu/jupyter/machine_learning/chapters/ \n"
     ]
    }
   ],
   "source": [
    "from os import path\n",
    "\n",
    "print(path.abspath(\" \"))"
   ]
  },
  {
   "cell_type": "markdown",
   "id": "3572128c",
   "metadata": {},
   "source": [
    "# prepare data - mnist\n",
    "1. two ways:<br>\n",
    "> 1. sklearn fetch_openml <br>\n",
    "> 2. download from official websites <br> arff format"
   ]
  },
  {
   "cell_type": "markdown",
   "id": "8e6a0f65",
   "metadata": {},
   "source": [
    "## download\n",
    "1. from scipy.io.arff import loadarff\n",
    "2. url: 'https://www.openml.org/data/v1/download/52667/mnist_784.arff'\n",
    "3. mnist_path = \"../data/mnist_784.arff\"\n",
    "4. mnist_raw = loadarff(mnist_path)"
   ]
  },
  {
   "cell_type": "markdown",
   "id": "061e7a04",
   "metadata": {},
   "source": [
    "## sklearn fetch"
   ]
  },
  {
   "cell_type": "code",
   "execution_count": 7,
   "id": "027d740b",
   "metadata": {},
   "outputs": [],
   "source": [
    "from sklearn.datasets import fetch_openml\n",
    "\n",
    "mnist = fetch_openml('mnist_784') "
   ]
  },
  {
   "cell_type": "code",
   "execution_count": 6,
   "id": "0862fe29",
   "metadata": {},
   "outputs": [
    {
     "data": {
      "text/plain": [
       "{'id': '554',\n",
       " 'name': 'mnist_784',\n",
       " 'version': '1',\n",
       " 'description_version': '1',\n",
       " 'format': 'ARFF',\n",
       " 'creator': ['Yann LeCun', 'Corinna Cortes', 'Christopher J.C. Burges'],\n",
       " 'upload_date': '2014-09-29T03:28:38',\n",
       " 'language': 'English',\n",
       " 'licence': 'Public',\n",
       " 'url': 'https://www.openml.org/data/v1/download/52667/mnist_784.arff',\n",
       " 'file_id': '52667',\n",
       " 'default_target_attribute': 'class',\n",
       " 'tag': ['AzurePilot',\n",
       "  'OpenML-CC18',\n",
       "  'OpenML100',\n",
       "  'study_1',\n",
       "  'study_123',\n",
       "  'study_41',\n",
       "  'study_99',\n",
       "  'vision'],\n",
       " 'visibility': 'public',\n",
       " 'status': 'active',\n",
       " 'processing_date': '2020-11-20 20:12:09',\n",
       " 'md5_checksum': '0298d579eb1b86163de7723944c7e495'}"
      ]
     },
     "execution_count": 6,
     "metadata": {},
     "output_type": "execute_result"
    }
   ],
   "source": [
    "mnist.details"
   ]
  },
  {
   "cell_type": "code",
   "execution_count": 64,
   "id": "3782a03e",
   "metadata": {},
   "outputs": [
    {
     "data": {
      "text/plain": [
       "RangeIndex(start=0, stop=70000, step=1)"
      ]
     },
     "execution_count": 64,
     "metadata": {},
     "output_type": "execute_result"
    }
   ],
   "source": [
    "# data description:\n",
    "# X - 70000 28*28 ndarray,which is flatten into 784 (70000,784) DF\n",
    "# y - 70000 labels from 0-9\n",
    "X, y = mnist[\"data\"], mnist[\"target\"]\n",
    "X.index"
   ]
  },
  {
   "cell_type": "code",
   "execution_count": 67,
   "id": "e49a194a",
   "metadata": {},
   "outputs": [
    {
     "data": {
      "image/png": "[encoded data removed]",
      "text/plain": [
       "<Figure size 640x480 with 1 Axes>"
      ]
     },
     "metadata": {},
     "output_type": "display_data"
    }
   ],
   "source": [
    "import matplotlib\n",
    "from matplotlib import pyplot as plt\n",
    "%matplotlib inline\n",
    "\n",
    "some_digit = X.iloc[45000]\n",
    "some_digit_image = some_digit.values.reshape(28,28)\n",
    "\n",
    "plt.imshow(some_digit_image,  cmap=plt.cm.binary,\n",
    "          interpolation=\"nearest\")\n",
    "plt.axis(\"off\")\n",
    "plt.grid(alpha=0)\n",
    "plt.show()"
   ]
  },
  {
   "cell_type": "code",
   "execution_count": 69,
   "id": "c10389a7",
   "metadata": {},
   "outputs": [
    {
     "data": {
      "text/plain": [
       "'3'"
      ]
     },
     "execution_count": 69,
     "metadata": {},
     "output_type": "execute_result"
    }
   ],
   "source": [
    "y[45000]"
   ]
  },
  {
   "cell_type": "markdown",
   "id": "fc40dd5e",
   "metadata": {},
   "source": [
    "## splitting train and test set\n",
    "1. using index\n",
    "2. permutation is needed - cause some ml model is order-sensitive"
   ]
  },
  {
   "cell_type": "code",
   "execution_count": 90,
   "id": "96a3849f",
   "metadata": {},
   "outputs": [],
   "source": [
    "import numpy as np\n",
    "\n",
    "np.random.RandomState(42)\n",
    "shuffle_index = np.random.permutation(60000)\n",
    "# again, note that X and y are stored in DF structure\n",
    "X_train, X_test, y_train, y_test = X.iloc[:60000],X.iloc[60000:],y.iloc[:60000],y.iloc[60000:]\n",
    "X_train, y_train = X_train.iloc[shuffle_index], y_train.iloc[shuffle_index]"
   ]
  },
  {
   "cell_type": "markdown",
   "id": "e70735cd",
   "metadata": {},
   "source": [
    "# train a binary classifier"
   ]
  },
  {
   "cell_type": "code",
   "execution_count": 122,
   "id": "4ddc2231",
   "metadata": {},
   "outputs": [],
   "source": [
    "# both numpy ndarray and pandas DataFrame allow masking\n",
    "# being that sifting data with conditional judgement statement\n",
    "###############################################################\n",
    "# in this case, label will either be 1 or 0 denoting whether \n",
    "# digits belongs to 3 or not 3.\n",
    "# note that category class will store class number as @@str@@\n",
    "y_train_3 = y_train.apply(lambda x: x == '3')\n",
    "y_test_3 = (y_test == \"3\")"
   ]
  },
  {
   "cell_type": "code",
   "execution_count": 123,
   "id": "34fdb6da",
   "metadata": {},
   "outputs": [
    {
     "data": {
      "text/plain": [
       "SGDClassifier(random_state=42)"
      ]
     },
     "execution_count": 123,
     "metadata": {},
     "output_type": "execute_result"
    }
   ],
   "source": [
    "# here we choose SGDClassifier\n",
    "# numpy will automatically transfer boolean int int with following pattern\n",
    "# True == 1 | False == 0\n",
    "from sklearn.linear_model import SGDClassifier\n",
    "\n",
    "sgd_clf = SGDClassifier(random_state=42)\n",
    "sgd_clf.fit(X_train, y_train_3.apply(lambda x: int(x)))"
   ]
  },
  {
   "cell_type": "code",
   "execution_count": 155,
   "id": "32b38ce5",
   "metadata": {},
   "outputs": [
    {
     "name": "stderr",
     "output_type": "stream",
     "text": [
      "/Users/collinsliu/opt/anaconda3/lib/python3.9/site-packages/sklearn/base.py:450: UserWarning: X does not have valid feature names, but SGDClassifier was fitted with feature names\n",
      "  warnings.warn(\n"
     ]
    },
    {
     "data": {
      "text/plain": [
       "array([1])"
      ]
     },
     "execution_count": 155,
     "metadata": {},
     "output_type": "execute_result"
    }
   ],
   "source": [
    "# sgd_clf.predict(some_digit.values.reshape(1,len(some_digit)))\n",
    "sgd_clf.predict([some_digit])"
   ]
  },
  {
   "cell_type": "markdown",
   "id": "7edeba1e",
   "metadata": {},
   "source": [
    "# evaluate classification result\n",
    "## more controlled cross-validation\n",
    "1. mannually implements cross_val_score\n",
    "2. note that StratifiedKFold and KFold are mainly dealing with index\n",
    "3. clone of one modle is necessary"
   ]
  },
  {
   "cell_type": "code",
   "execution_count": 171,
   "id": "6765d312",
   "metadata": {},
   "outputs": [
    {
     "name": "stdout",
     "output_type": "stream",
     "text": [
      "0.6170833333333333\n",
      "0.6839166666666666\n",
      "0.8765833333333334\n",
      "0.89375\n",
      "0.7969166666666667\n"
     ]
    }
   ],
   "source": [
    "from sklearn.model_selection import StratifiedKFold\n",
    "from sklearn.base import clone\n",
    "\n",
    "skfolds = StratifiedKFold(n_splits=5, shuffle=True, random_state=42)\n",
    "# Stradified k-fold will split trains set and test set, but in multiple times \n",
    "# this feature is set in n_splits paramter\n",
    "##############################################\n",
    "# sklearn.model_selection could take DF or Se \n",
    "# yet make sure data type being made into @@int@@ or @@float@@\n",
    "# not stayed in None or Object or Boolean\n",
    "for train_index, test_index in skfolds.split(X_train, y_train_3.astype(int)):\n",
    "    # clone is necessary\n",
    "    clone_clf = clone(sgd_clf)\n",
    "    X_train_folds = X_train.iloc[train_index]\n",
    "    X_test_fold = X_train.iloc[test_index]\n",
    "    y_train_folds = y_train_3[train_index]\n",
    "    y_test_fold = y_train_3[test_index]\n",
    "    \n",
    "    clone_clf.fit(X_train_folds, y_train_folds.apply(lambda x: int(x)))\n",
    "    y_pred = clone_clf.predict(X_test_fold)\n",
    "    n_correct = sum(y_pred == y_test_fold)\n",
    "    print(n_correct / len(y_pred))"
   ]
  },
  {
   "cell_type": "code",
   "execution_count": 159,
   "id": "6e72ec5b",
   "metadata": {},
   "outputs": [
    {
     "data": {
      "text/plain": [
       "pandas.core.series.Series"
      ]
     },
     "execution_count": 159,
     "metadata": {},
     "output_type": "execute_result"
    }
   ],
   "source": [
    "type(y_train_3)"
   ]
  },
  {
   "cell_type": "code",
   "execution_count": 170,
   "id": "ee6f6dcc",
   "metadata": {},
   "outputs": [
    {
     "name": "stdout",
     "output_type": "stream",
     "text": [
      "28418    1\n",
      "39479    0\n",
      "1785     0\n",
      "48135    0\n",
      "4135     0\n",
      "        ..\n",
      "38156    0\n",
      "34044    0\n",
      "26424    0\n",
      "31797    0\n",
      "15695    0\n",
      "Name: class, Length: 60000, dtype: int64\n",
      "<class 'pandas.core.series.Series'>\n"
     ]
    }
   ],
   "source": [
    "print(y_train_3.astype(int))\n",
    "print(type(y_train_3.astype(int)))"
   ]
  },
  {
   "cell_type": "code",
   "execution_count": null,
   "id": "0cc87cea",
   "metadata": {},
   "outputs": [],
   "source": []
  }
 ],
 "metadata": {
  "kernelspec": {
   "display_name": "python3.6",
   "language": "python",
   "name": "python3.6"
  },
  "language_info": {
   "codemirror_mode": {
    "name": "ipython",
    "version": 3
   },
   "file_extension": ".py",
   "mimetype": "text/x-python",
   "name": "python",
   "nbconvert_exporter": "python",
   "pygments_lexer": "ipython3",
   "version": "3.9.7"
  },
  "toc": {
   "base_numbering": 1,
   "nav_menu": {},
   "number_sections": true,
   "sideBar": true,
   "skip_h1_title": false,
   "title_cell": "Table of Contents",
   "title_sidebar": "Contents",
   "toc_cell": false,
   "toc_position": {},
   "toc_section_display": true,
   "toc_window_display": true
  }
 },
 "nbformat": 4,
 "nbformat_minor": 5
}
