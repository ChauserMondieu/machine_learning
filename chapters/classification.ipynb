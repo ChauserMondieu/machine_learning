{
 "cells": [
  {
   "cell_type": "markdown",
   "id": "d3ed5723",
   "metadata": {},
   "source": [
    "# prepare data - mnist\n",
    "1. two ways:<br>\n",
    "> 1. sklearn fetch_openml <br>\n",
    "> 2. download from official websites <br> arff format"
   ]
  },
  {
   "cell_type": "code",
   "execution_count": 3,
   "id": "7f26a710",
   "metadata": {},
   "outputs": [
    {
     "name": "stdout",
     "output_type": "stream",
     "text": [
      "/Users/collinsliu/jupyter/machine_learning/chapters/ \n"
     ]
    }
   ],
   "source": [
    "from os import path\n",
    "\n",
    "print(path.abspath(\" \"))"
   ]
  },
  {
   "cell_type": "code",
   "execution_count": 7,
   "id": "af71cc76",
   "metadata": {},
   "outputs": [],
   "source": [
    "from sklearn.datasets import fetch_openml\n",
    "\n",
    "mnist = fetch_openml('mnist_784') "
   ]
  },
  {
   "cell_type": "code",
   "execution_count": 6,
   "id": "a805ddd7",
   "metadata": {},
   "outputs": [
    {
     "data": {
      "text/plain": [
       "{'id': '554',\n",
       " 'name': 'mnist_784',\n",
       " 'version': '1',\n",
       " 'description_version': '1',\n",
       " 'format': 'ARFF',\n",
       " 'creator': ['Yann LeCun', 'Corinna Cortes', 'Christopher J.C. Burges'],\n",
       " 'upload_date': '2014-09-29T03:28:38',\n",
       " 'language': 'English',\n",
       " 'licence': 'Public',\n",
       " 'url': 'https://www.openml.org/data/v1/download/52667/mnist_784.arff',\n",
       " 'file_id': '52667',\n",
       " 'default_target_attribute': 'class',\n",
       " 'tag': ['AzurePilot',\n",
       "  'OpenML-CC18',\n",
       "  'OpenML100',\n",
       "  'study_1',\n",
       "  'study_123',\n",
       "  'study_41',\n",
       "  'study_99',\n",
       "  'vision'],\n",
       " 'visibility': 'public',\n",
       " 'status': 'active',\n",
       " 'processing_date': '2020-11-20 20:12:09',\n",
       " 'md5_checksum': '0298d579eb1b86163de7723944c7e495'}"
      ]
     },
     "execution_count": 6,
     "metadata": {},
     "output_type": "execute_result"
    }
   ],
   "source": [
    "mnist.details"
   ]
  },
  {
   "cell_type": "code",
   "execution_count": 10,
   "id": "a3754b89",
   "metadata": {},
   "outputs": [
    {
     "ename": "AttributeError",
     "evalue": "'tuple' object has no attribute 'meta'",
     "output_type": "error",
     "traceback": [
      "\u001b[0;31m---------------------------------------------------------------------------\u001b[0m",
      "\u001b[0;31mAttributeError\u001b[0m                            Traceback (most recent call last)",
      "\u001b[0;32m/var/folders/zh/fmxxp3g1653ccyjmyp5z3bc00000gn/T/ipykernel_26921/567627979.py\u001b[0m in \u001b[0;36m<module>\u001b[0;34m\u001b[0m\n\u001b[1;32m      4\u001b[0m \u001b[0mmnist_path\u001b[0m \u001b[0;34m=\u001b[0m \u001b[0;34m\"../data/mnist_784.arff\"\u001b[0m\u001b[0;34m\u001b[0m\u001b[0;34m\u001b[0m\u001b[0m\n\u001b[1;32m      5\u001b[0m \u001b[0mmnist_raw\u001b[0m \u001b[0;34m=\u001b[0m \u001b[0mloadarff\u001b[0m\u001b[0;34m(\u001b[0m\u001b[0mmnist_path\u001b[0m\u001b[0;34m)\u001b[0m\u001b[0;34m\u001b[0m\u001b[0;34m\u001b[0m\u001b[0m\n\u001b[0;32m----> 6\u001b[0;31m \u001b[0mmnist_raw\u001b[0m\u001b[0;34m.\u001b[0m\u001b[0mmeta\u001b[0m\u001b[0;34m\u001b[0m\u001b[0;34m\u001b[0m\u001b[0m\n\u001b[0m",
      "\u001b[0;31mAttributeError\u001b[0m: 'tuple' object has no attribute 'meta'"
     ]
    }
   ],
   "source": [
    "from scipy.io.arff import loadarff\n",
    "\n",
    "# 'url': 'https://www.openml.org/data/v1/download/52667/mnist_784.arff'\n",
    "mnist_path = \"../data/mnist_784.arff\"\n",
    "mnist_raw = loadarff(mnist_path)"
   ]
  },
  {
   "cell_type": "code",
   "execution_count": 15,
   "id": "c2d2580a",
   "metadata": {},
   "outputs": [],
   "source": [
    "mnist_data = mnist_raw[0]\n",
    "mnist_target = mnist_raw[1]"
   ]
  },
  {
   "cell_type": "code",
   "execution_count": 48,
   "id": "1ad1c884",
   "metadata": {},
   "outputs": [
    {
     "data": {
      "text/plain": [
       "<matplotlib.image.AxesImage at 0x7ff4b009cac0>"
      ]
     },
     "execution_count": 48,
     "metadata": {},
     "output_type": "execute_result"
    },
    {
     "data": {
      "image/png": "[encoded data removed]",
      "text/plain": [
       "<Figure size 640x480 with 1 Axes>"
      ]
     },
     "metadata": {},
     "output_type": "display_data"
    }
   ],
   "source": [
    "from matplotlib import pyplot as plt\n",
    "import numpy as np\n",
    "import pandas as pd\n",
    "\n",
    "# plt.imshow(np.array(mnist_data[0],dtype=np.int32))\n",
    "type(np.array(mnist_data[0].tolist()))\n",
    "plt.imshow(np.array(mnist_data[0].tolist(),dtype=np.float64)[:-1].reshape(28,28))"
   ]
  },
  {
   "cell_type": "code",
   "execution_count": 64,
   "id": "5433bbdb",
   "metadata": {},
   "outputs": [
    {
     "data": {
      "text/plain": [
       "RangeIndex(start=0, stop=70000, step=1)"
      ]
     },
     "execution_count": 64,
     "metadata": {},
     "output_type": "execute_result"
    }
   ],
   "source": [
    "# data description:\n",
    "# X - 70000 28*28 ndarray,which is flatten into 784 (70000,784) DF\n",
    "# y - 70000 labels from 0-9\n",
    "X, y = mnist[\"data\"], mnist[\"target\"]\n",
    "X.index"
   ]
  },
  {
   "cell_type": "code",
   "execution_count": 67,
   "id": "12982f56",
   "metadata": {},
   "outputs": [
    {
     "data": {
      "image/png": "[encoded data removed]",
      "text/plain": [
       "<Figure size 640x480 with 1 Axes>"
      ]
     },
     "metadata": {},
     "output_type": "display_data"
    }
   ],
   "source": [
    "import matplotlib\n",
    "from matplotlib import pyplot as plt\n",
    "%matplotlib inline\n",
    "\n",
    "some_digit = X.iloc[45000]\n",
    "some_digit_image = some_digit.values.reshape(28,28)\n",
    "\n",
    "plt.imshow(some_digit_image,  cmap=plt.cm.binary,\n",
    "          interpolation=\"nearest\")\n",
    "plt.axis(\"off\")\n",
    "plt.grid(alpha=0)\n",
    "plt.show()"
   ]
  },
  {
   "cell_type": "code",
   "execution_count": null,
   "id": "6b6ad40e",
   "metadata": {},
   "outputs": [],
   "source": []
  }
 ],
 "metadata": {
  "kernelspec": {
   "display_name": "python3.6",
   "language": "python",
   "name": "python3.6"
  },
  "language_info": {
   "codemirror_mode": {
    "name": "ipython",
    "version": 3
   },
   "file_extension": ".py",
   "mimetype": "text/x-python",
   "name": "python",
   "nbconvert_exporter": "python",
   "pygments_lexer": "ipython3",
   "version": "3.9.7"
  },
  "toc": {
   "base_numbering": 1,
   "nav_menu": {},
   "number_sections": true,
   "sideBar": true,
   "skip_h1_title": false,
   "title_cell": "Table of Contents",
   "title_sidebar": "Contents",
   "toc_cell": false,
   "toc_position": {},
   "toc_section_display": true,
   "toc_window_display": true
  }
 },
 "nbformat": 4,
 "nbformat_minor": 5
}
