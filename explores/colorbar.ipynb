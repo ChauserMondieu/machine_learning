{
 "cells": [
  {
   "cell_type": "markdown",
   "id": "70193eef",
   "metadata": {},
   "source": [
    "# Overview\n",
    "1. patch for matplotlib <font color=vermillion><b>mpl_toolkits</b></font> provides multiple functions to manipulate matplotlib pyplot itmes\n",
    "2. the hierachical form of plt image is:\n",
    "    > figure <br>\n",
    "    > axes <br>\n",
    "    > figure <br>\n",
    "    > items "
   ]
  },
  {
   "cell_type": "code",
   "execution_count": 2,
   "id": "f763b4a9",
   "metadata": {},
   "outputs": [],
   "source": [
    "from mpl_toolkits.axes_grid1 import make_axes_locatable\n",
    "from matplotlib import pyplot as plt\n",
    "import matplotlib as plt\n",
    "import numpy as np\n",
    "import pandas as pd\n",
    "\n",
    "fig, ax = plt.subplots()\n",
    "divider = make_axes_locatable()"
   ]
  },
  {
   "cell_type": "code",
   "execution_count": null,
   "id": "f0f6ec9d",
   "metadata": {},
   "outputs": [],
   "source": []
  }
 ],
 "metadata": {
  "kernelspec": {
   "display_name": "Python 3 (ipykernel)",
   "language": "python",
   "name": "python3"
  },
  "language_info": {
   "codemirror_mode": {
    "name": "ipython",
    "version": 3
   },
   "file_extension": ".py",
   "mimetype": "text/x-python",
   "name": "python",
   "nbconvert_exporter": "python",
   "pygments_lexer": "ipython3",
   "version": "3.9.7"
  },
  "toc": {
   "base_numbering": 1,
   "nav_menu": {},
   "number_sections": true,
   "sideBar": true,
   "skip_h1_title": false,
   "title_cell": "Table of Contents",
   "title_sidebar": "Contents",
   "toc_cell": false,
   "toc_position": {},
   "toc_section_display": true,
   "toc_window_display": true
  }
 },
 "nbformat": 4,
 "nbformat_minor": 5
}
