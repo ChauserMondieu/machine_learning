{
 "cells": [
  {
   "cell_type": "markdown",
   "id": "318cd7f7",
   "metadata": {},
   "source": [
    "# overview\n",
    "feature engineeing includes <font color=burgendy><b>feature seletion</b></font> and <font color=burgendy><b>feature extraction</b></font>\n",
    "## feature selection\n",
    "1. could be divided into filter, wrapper, embedded and hybrid\n",
    "2. filter is more easy to accomplish\n",
    "\n",
    "\n",
    "    > feature selection more focuses on finding multicollinearity between features or correlations between dependent and independent variables.\n",
    "    > most basic and intuitive method could be droping features that are not relative at the first glance and features with many missing values"
   ]
  },
  {
   "cell_type": "markdown",
   "id": "137ab04e",
   "metadata": {},
   "source": [
    "# MI and IG\n",
    "1. Mutual Information and Information Gain are the same concept, the only difference is that MI will determine whether two random variables would be independent to each other, while IG will calculate the value when one feature is taken into consideration, how much information it would contribute to total change of dependent variable."
   ]
  },
  {
   "cell_type": "markdown",
   "id": "a3fcdb59",
   "metadata": {},
   "source": [
    "note that MI and IG shares the same formula, which is:\n",
    "$$\n",
    "\\left\\{\n",
    "\\begin{array}{ll}\n",
    "    I(X;Y) & = & H(X) - H(X|Y) = H(Y) - H(Y|X) \\\\\n",
    "    H(X|Y) & = & -\\sum_{y \\in Y} {p(y)H(X|Y=y)} \\\\\n",
    "    & = & -\\sum_{y \\in Y}{p(y)}\\sum_{x \\in X}{p(x|y)log{p(x|y)}} \\\\\n",
    "    & = & -\\sum_{y \\in Y}{\\sum_{x \\in X}{p(x,y)log\\frac{p(x,y)}{p(y)}}} \\\\\n",
    "    I(X;Y) & = & -\\sum_{x \\in X}{p(x)logp(x)} + \\sum_{y \\in Y}{\\sum_{x \\in X}{p(x,y)log\\frac{p(x,y)}{p(y)}}}\\\\\n",
    "    & = & -\\sum_{x \\in X}{\\sum_{y \\in Y}{p(x,y)logp(x)}} + \\sum_{y \\in Y}{\\sum_{x \\in X}{p(x,y)log\\frac{p(x,y)}{p(y)}}} \\\\\n",
    "    & = & \\sum_{y \\in Y}{\\sum_{x \\in X}{p(x,y)log\\frac{p(x,y)}{p(x)p(y)}}}\n",
    "\\end{array}\n",
    "\\right .\n",
    "$$"
   ]
  },
  {
   "cell_type": "markdown",
   "id": "40a783da",
   "metadata": {},
   "source": [
    "## ID3 implementation\n",
    "Adding new feature for classification will add more information to exsiting system, which will be viewed as conditional probability entropy. <br>\n",
    "The formula evolution should be viewed like IG:\n",
    "$$\n",
    "\\begin{array}{ll}\n",
    "    IG(D,a) & = & H(D) - H(D|a) \\\\\n",
    "    & = & Ent(D) - \\sum{\\frac{|D_v|}{|D|}Ent(D^v)} \\\\\n",
    "\\end{array}\n",
    "$$\n",
    "* here D means dataset <br>\n",
    "* a is one classification feature, which has v different values <br>\n",
    "* $D_v$ means data falls into v category\n",
    "* $Ent(D^v)$ is $H(D|a=v)$ probability distribution in category v\n",
    "* $\\frac{|D_v|}{|D|}$ is $p(y)$"
   ]
  },
  {
   "cell_type": "markdown",
   "id": "44d1ae4c",
   "metadata": {},
   "source": [
    "## python implementation\n",
    "1. <font color=sapphire><b>sklearn.feature_selection mutual_info_classif</font></b> will return mutual information between each feature and its target"
   ]
  },
  {
   "cell_type": "code",
   "execution_count": 10,
   "id": "61611753",
   "metadata": {},
   "outputs": [
    {
     "data": {
      "text/plain": [
       "dict_keys(['data', 'target', 'frame', 'target_names', 'DESCR', 'feature_names', 'filename', 'data_module'])"
      ]
     },
     "execution_count": 10,
     "metadata": {},
     "output_type": "execute_result"
    }
   ],
   "source": [
    "from sklearn.feature_selection import mutual_info_classif\n",
    "from sklearn.datasets import load_iris\n",
    "\n",
    "iris_raw = load_iris()\n",
    "iris_raw.keys()"
   ]
  },
  {
   "cell_type": "code",
   "execution_count": 12,
   "id": "161025f3",
   "metadata": {},
   "outputs": [
    {
     "name": "stdout",
     "output_type": "stream",
     "text": [
      "feaeture name: sepal length (cm) - 0.486408.5\n",
      "feaeture name: sepal width (cm) - 0.297351.5\n",
      "feaeture name: petal length (cm) - 0.991710.5\n",
      "feaeture name: petal width (cm) - 0.988400.5\n"
     ]
    }
   ],
   "source": [
    "X_iris = iris_raw.data\n",
    "y_iris = iris_raw.target\n",
    "feature_iris = iris_raw.feature_names\n",
    "mic = mutual_info_classif(X_iris, y_iris)\n",
    "for feat, mic_value in zip(feature_iris, mic):\n",
    "    print(\"feaeture name: %s - %f.5\"%(feat, mic_value))"
   ]
  },
  {
   "cell_type": "markdown",
   "id": "55c1dcd3",
   "metadata": {},
   "source": [
    "# $\\chi^2$ test\n",
    "    > Mostly test for degree of correlation of two different sets of features. <br>\n",
    "    > The null hypothesus is independence between two features.  <br>\n",
    "    > DOF equals to $(r-1)(c-1)$ <br>\n",
    "## basic principle\n",
    "    > If two sets of features are independent to each other, the product of their marginal probability distribution should just equal to their joint probability distribution, which is:\n",
    "$$\n",
    "    P(X,Y) = P(X)\\cdot P(Y)\n",
    "$$\n",
    "\n",
    "    > Then, the difference between observed value and principle value should be just random noise, which in statistics obeying standard normal distribution.<br>\n",
    "    > Thus we could construct hypothesis test pivot statistic:\n",
    "$$\n",
    "\\begin{array}{ll}\n",
    "    & \\chi^2(\\nu) = \\sum_{i}^{N}{\\frac{{(O_i-E_i)}^2}{E_i}} \\\\\n",
    "    & * \\space N \\space equals \\space to \\space item \\space numbers \\space in \\space cross-table\n",
    "\\end{array}\n",
    "$$\n",
    "\n",
    "## special case\n",
    "    > for classic $2 \\times 2$ cross-table:\n",
    "<table>\n",
    "    <th></th>\n",
    "    <th>Cat1-Val1</th>\n",
    "    <th>Cat1-Val2</th>\n",
    "    <th>Sum</th>\n",
    "    <tr>\n",
    "        <td>Cat2-Val1</td>\n",
    "        <td>a</td>\n",
    "        <td>b</td>\n",
    "        <td>a+b</td>\n",
    "    </tr>\n",
    "    <tr>\n",
    "        <td>Cat2-Val2</td>\n",
    "        <td>c</td>\n",
    "        <td>d</td>\n",
    "        <td>c+d</td>\n",
    "    </tr>\n",
    "    <tr>\n",
    "        <td>Sum</td>\n",
    "        <td>a+c</td>\n",
    "        <td>b+d</td>\n",
    "        <td>n=a+b+c+d</td>\n",
    "    </tr>\n",
    "</table>\n",
    "\n",
    "    > the constructed statistic is:\n",
    "$$\n",
    "\\begin{array}{ll}\n",
    "    & \\chi^2(\\nu) = \\frac{n{(ad-bc)}^2}{(a+c)(b+d)(a+b)(c+d)} \\\\\n",
    "    & * \\space\\nu = (r-1)(c-1) = 1\n",
    "\\end{array}\n",
    "$$"
   ]
  },
  {
   "cell_type": "markdown",
   "id": "14dc74df",
   "metadata": {},
   "source": [
    "## python implementation\n",
    "1. <font color=sapphire><b> sklearn.feature_selection chi2</b></font>\n",
    "2. for chi2 hypothesis test, make sure label vector could be binarized, which is not continuous"
   ]
  },
  {
   "cell_type": "markdown",
   "id": "ce2ff134",
   "metadata": {},
   "source": [
    "### between label and feature"
   ]
  },
  {
   "cell_type": "code",
   "execution_count": 18,
   "id": "feae3b6b",
   "metadata": {},
   "outputs": [
    {
     "name": "stdout",
     "output_type": "stream",
     "text": [
      "feature: sepal length (cm) - True\n",
      "feature: sepal width (cm) - False\n",
      "feature: petal length (cm) - True\n",
      "feature: petal width (cm) - True\n"
     ]
    }
   ],
   "source": [
    "from sklearn.feature_selection import chi2\n",
    "\n",
    "c2 = chi2(X_iris, y_iris)\n",
    "res = c2[1] < 0.05\n",
    "for feat, c2_val in zip(feature_iris, res):\n",
    "    print(\"feature: %s - %s\"%(feat, c2_val))"
   ]
  },
  {
   "cell_type": "markdown",
   "id": "e2965981",
   "metadata": {},
   "source": [
    "### between features"
   ]
  },
  {
   "cell_type": "code",
   "execution_count": 32,
   "id": "fe52ff25",
   "metadata": {},
   "outputs": [
    {
     "data": {
      "text/plain": [
       "[(1.4, 13), (1.5, 13), (4.5, 8), (5.1, 8), (1.3, 7)]"
      ]
     },
     "execution_count": 32,
     "metadata": {},
     "output_type": "execute_result"
    }
   ],
   "source": [
    "from collections import Counter\n",
    "\n",
    "c = Counter(X_iris[:,2])\n",
    "c.most_common(5)"
   ]
  },
  {
   "cell_type": "code",
   "execution_count": 46,
   "id": "81ebf1fb",
   "metadata": {},
   "outputs": [
    {
     "data": {
      "text/plain": [
       "(array([153.52776089]), array([1.28055921e-14]))"
      ]
     },
     "execution_count": 46,
     "metadata": {},
     "output_type": "execute_result"
    }
   ],
   "source": [
    "# test for 2 sets of features\n",
    "# first, one feature in X postion should be transformed into 2-d matrix, using reshap(-1,1)\n",
    "# second, make sure the other feature be changed to type int using astype(int)\n",
    "# chi-square test with two lengths in sepal and petal\n",
    "slen_iris = X_iris[:,0].reshape(-1,1)\n",
    "plen_iris = X_iris[:,2]\n",
    "c2_len = chi2(slen_iris*10,(plen_iris*10).astype(np.int8))\n",
    "c2_len"
   ]
  },
  {
   "cell_type": "markdown",
   "id": "4858e1d7",
   "metadata": {},
   "source": [
    "# F test\n",
    "1. <font color=sapphire><b>f_classif</b></font> is used to test discrete values\n",
    "2. <font color=sapphire><b>f_regression</b></font> is used to test continuous values"
   ]
  },
  {
   "cell_type": "code",
   "execution_count": 55,
   "id": "b0b06ec0",
   "metadata": {},
   "outputs": [
    {
     "data": {
      "text/plain": [
       "array([2.89047835e-32, 5.20156326e-08, 4.20187315e-76, 4.15531102e-81])"
      ]
     },
     "execution_count": 55,
     "metadata": {},
     "output_type": "execute_result"
    }
   ],
   "source": [
    "from sklearn.feature_selection import f_classif\n",
    "from sklearn.feature_selection import f_regression\n",
    "\n",
    "f, pval = f_regression(X_iris, y_iris)\n",
    "pval"
   ]
  },
  {
   "cell_type": "code",
   "execution_count": 71,
   "id": "62f07d68",
   "metadata": {},
   "outputs": [
    {
     "data": {
      "text/plain": [
       "array([ True])"
      ]
     },
     "execution_count": 71,
     "metadata": {},
     "output_type": "execute_result"
    }
   ],
   "source": [
    "f2, pval2 = f_regression(slen_iris, plen_iris)\n",
    "pval2"
   ]
  },
  {
   "cell_type": "markdown",
   "id": "0eb4754f",
   "metadata": {},
   "source": [
    "# correlation"
   ]
  },
  {
   "cell_type": "code",
   "execution_count": 68,
   "id": "e01157ef",
   "metadata": {},
   "outputs": [
    {
     "data": {
      "text/plain": [
       "<AxesSubplot:>"
      ]
     },
     "execution_count": 68,
     "metadata": {},
     "output_type": "execute_result"
    },
    {
     "data": {
      "image/png": "[encoded data removed]",
      "text/plain": [
       "<Figure size 800x500 with 1 Axes>"
      ]
     },
     "metadata": {},
     "output_type": "display_data"
    }
   ],
   "source": [
    "import seaborn as sns\n",
    "from matplotlib import pyplot as plt\n",
    "\n",
    "sns.set(rc={'figure.figsize':(8,5)})\n",
    "sns.heatmap(np.corrcoef(X_iris, rowvar=False),\n",
    "annot=True,\n",
    "linewidths=.5,\n",
    "center=0,\n",
    "cbar=False,\n",
    "cmap=\"PiYG\")"
   ]
  },
  {
   "cell_type": "code",
   "execution_count": 64,
   "id": "d9566773",
   "metadata": {},
   "outputs": [
    {
     "data": {
      "text/plain": [
       "(150, 4)"
      ]
     },
     "execution_count": 64,
     "metadata": {},
     "output_type": "execute_result"
    }
   ],
   "source": [
    "X_iris.shape"
   ]
  },
  {
   "cell_type": "code",
   "execution_count": null,
   "id": "3ac178ed",
   "metadata": {},
   "outputs": [],
   "source": []
  }
 ],
 "metadata": {
  "kernelspec": {
   "display_name": "python3.6",
   "language": "python",
   "name": "python3.6"
  },
  "language_info": {
   "codemirror_mode": {
    "name": "ipython",
    "version": 3
   },
   "file_extension": ".py",
   "mimetype": "text/x-python",
   "name": "python",
   "nbconvert_exporter": "python",
   "pygments_lexer": "ipython3",
   "version": "3.9.7"
  },
  "toc": {
   "base_numbering": 1,
   "nav_menu": {},
   "number_sections": true,
   "sideBar": true,
   "skip_h1_title": false,
   "title_cell": "Table of Contents",
   "title_sidebar": "Contents",
   "toc_cell": false,
   "toc_position": {},
   "toc_section_display": true,
   "toc_window_display": true
  }
 },
 "nbformat": 4,
 "nbformat_minor": 5
}
